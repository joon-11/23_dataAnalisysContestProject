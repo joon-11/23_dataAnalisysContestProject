{
  "cells": [
    {
      "cell_type": "markdown",
      "metadata": {
        "id": "view-in-github",
        "colab_type": "text"
      },
      "source": [
        "<a href=\"https://colab.research.google.com/github/joon-11/23_dataAnalisysContestProject/blob/main/Untitled.ipynb\" target=\"_parent\"><img src=\"https://colab.research.google.com/assets/colab-badge.svg\" alt=\"Open In Colab\"/></a>"
      ]
    },
    {
      "cell_type": "markdown",
      "source": [
        "#### **한글 폰트 다운로드**"
      ],
      "metadata": {
        "id": "zfUnxqMg7So6"
      }
    },
    {
      "cell_type": "code",
      "execution_count": 1,
      "metadata": {
        "colab": {
          "base_uri": "https://localhost:8080/"
        },
        "id": "DyCqMecPbd1J",
        "outputId": "e4588ff4-69d8-4c42-980d-3ef1d2664859"
      },
      "outputs": [
        {
          "output_type": "stream",
          "name": "stdout",
          "text": [
            "Reading package lists... Done\n",
            "Building dependency tree       \n",
            "Reading state information... Done\n",
            "The following NEW packages will be installed:\n",
            "  fonts-nanum\n",
            "0 upgraded, 1 newly installed, 0 to remove and 38 not upgraded.\n",
            "Need to get 9,599 kB of archives.\n",
            "After this operation, 29.6 MB of additional disk space will be used.\n",
            "Get:1 http://archive.ubuntu.com/ubuntu focal/universe amd64 fonts-nanum all 20180306-3 [9,599 kB]\n",
            "Fetched 9,599 kB in 0s (53.3 MB/s)\n",
            "debconf: unable to initialize frontend: Dialog\n",
            "debconf: (No usable dialog-like program is installed, so the dialog based frontend cannot be used. at /usr/share/perl5/Debconf/FrontEnd/Dialog.pm line 76, <> line 1.)\n",
            "debconf: falling back to frontend: Readline\n",
            "debconf: unable to initialize frontend: Readline\n",
            "debconf: (This frontend requires a controlling tty.)\n",
            "debconf: falling back to frontend: Teletype\n",
            "dpkg-preconfigure: unable to re-open stdin: \n",
            "Selecting previously unselected package fonts-nanum.\n",
            "(Reading database ... 122541 files and directories currently installed.)\n",
            "Preparing to unpack .../fonts-nanum_20180306-3_all.deb ...\n",
            "Unpacking fonts-nanum (20180306-3) ...\n",
            "Setting up fonts-nanum (20180306-3) ...\n",
            "Processing triggers for fontconfig (2.13.1-2ubuntu3) ...\n",
            "/usr/share/fonts: caching, new cache contents: 0 fonts, 1 dirs\n",
            "/usr/share/fonts/truetype: caching, new cache contents: 0 fonts, 3 dirs\n",
            "/usr/share/fonts/truetype/humor-sans: caching, new cache contents: 1 fonts, 0 dirs\n",
            "/usr/share/fonts/truetype/liberation: caching, new cache contents: 16 fonts, 0 dirs\n",
            "/usr/share/fonts/truetype/nanum: caching, new cache contents: 10 fonts, 0 dirs\n",
            "/usr/local/share/fonts: caching, new cache contents: 0 fonts, 0 dirs\n",
            "/root/.local/share/fonts: skipping, no such directory\n",
            "/root/.fonts: skipping, no such directory\n",
            "/usr/share/fonts/truetype: skipping, looped directory detected\n",
            "/usr/share/fonts/truetype/humor-sans: skipping, looped directory detected\n",
            "/usr/share/fonts/truetype/liberation: skipping, looped directory detected\n",
            "/usr/share/fonts/truetype/nanum: skipping, looped directory detected\n",
            "/var/cache/fontconfig: cleaning cache directory\n",
            "/root/.cache/fontconfig: not cleaning non-existent cache directory\n",
            "/root/.fontconfig: not cleaning non-existent cache directory\n",
            "fc-cache: succeeded\n"
          ]
        }
      ],
      "source": [
        "!sudo apt-get install -y fonts-nanum\n",
        "!sudo fc-cache -fv\n",
        "!rm ~/.cache/matplotlib -rf"
      ]
    },
    {
      "cell_type": "code",
      "execution_count": 1,
      "metadata": {
        "id": "juL6V6tucuTi"
      },
      "outputs": [],
      "source": [
        "import csv\n",
        "import pandas as pd\n",
        "import matplotlib.pyplot as plt\n",
        "\n",
        "plt.rc('font', family='NanumBarunGothic') \n",
        "file = pd.read_csv('/content/drive/MyDrive/데이터 분석/data.csv',encoding = 'cp949')#데이터 불러오기\n",
        "founder = pd.read_csv('/content/drive/MyDrive/데이터 분석/창업진흥원_창업기업 창업자의 전공정보1.csv',encoding = 'cp949')\n",
        "\n",
        "rate = pd.read_csv(\"/content/drive/MyDrive/데이터 분석/rate.csv\",encoding = 'cp949')##취업률\n",
        "\n",
        "## https://www.data.go.kr/data/15053809/fileData.do 원본링크 \n",
        "Data_fin = pd.read_csv(\"/content/drive/MyDrive/데이터 분석/data_final.csv\", encoding = 'cp949')##대학 모집인원\n",
        "\n",
        "Data_gradu = pd.read_csv(\"/content/drive/MyDrive/데이터 분석/gradu_final.csv\",encoding = 'cp949')##대학 졸업자 수"
      ]
    },
    {
      "cell_type": "code",
      "source": [
        "Data_fin.head(3)"
      ],
      "metadata": {
        "colab": {
          "base_uri": "https://localhost:8080/",
          "height": 143
        },
        "id": "f871ZIviWAs4",
        "outputId": "54627634-f1ec-466d-956e-d4434fca5e82"
      },
      "execution_count": null,
      "outputs": [
        {
          "output_type": "execute_result",
          "data": {
            "text/plain": [
              "   조사회차    학제       학교명 본분교   대계열    중계열    소계열    학과명  모집인원\n",
              "0  2014  전문대학  충남도립청양대학  본교  사회계열  경영ㆍ경제  경영ㆍ경제  토지행정과    40\n",
              "1  2014  전문대학  충남도립청양대학  본교  사회계열   사회과학     행정  경찰행정과    40\n",
              "2  2014  전문대학  충남도립청양대학  본교  사회계열   사회과학     행정  자치행정과    85"
            ],
            "text/html": [
              "\n",
              "  <div id=\"df-b8e4d074-3ca1-4bf2-9a66-c4b4ea26bc15\">\n",
              "    <div class=\"colab-df-container\">\n",
              "      <div>\n",
              "<style scoped>\n",
              "    .dataframe tbody tr th:only-of-type {\n",
              "        vertical-align: middle;\n",
              "    }\n",
              "\n",
              "    .dataframe tbody tr th {\n",
              "        vertical-align: top;\n",
              "    }\n",
              "\n",
              "    .dataframe thead th {\n",
              "        text-align: right;\n",
              "    }\n",
              "</style>\n",
              "<table border=\"1\" class=\"dataframe\">\n",
              "  <thead>\n",
              "    <tr style=\"text-align: right;\">\n",
              "      <th></th>\n",
              "      <th>조사회차</th>\n",
              "      <th>학제</th>\n",
              "      <th>학교명</th>\n",
              "      <th>본분교</th>\n",
              "      <th>대계열</th>\n",
              "      <th>중계열</th>\n",
              "      <th>소계열</th>\n",
              "      <th>학과명</th>\n",
              "      <th>모집인원</th>\n",
              "    </tr>\n",
              "  </thead>\n",
              "  <tbody>\n",
              "    <tr>\n",
              "      <th>0</th>\n",
              "      <td>2014</td>\n",
              "      <td>전문대학</td>\n",
              "      <td>충남도립청양대학</td>\n",
              "      <td>본교</td>\n",
              "      <td>사회계열</td>\n",
              "      <td>경영ㆍ경제</td>\n",
              "      <td>경영ㆍ경제</td>\n",
              "      <td>토지행정과</td>\n",
              "      <td>40</td>\n",
              "    </tr>\n",
              "    <tr>\n",
              "      <th>1</th>\n",
              "      <td>2014</td>\n",
              "      <td>전문대학</td>\n",
              "      <td>충남도립청양대학</td>\n",
              "      <td>본교</td>\n",
              "      <td>사회계열</td>\n",
              "      <td>사회과학</td>\n",
              "      <td>행정</td>\n",
              "      <td>경찰행정과</td>\n",
              "      <td>40</td>\n",
              "    </tr>\n",
              "    <tr>\n",
              "      <th>2</th>\n",
              "      <td>2014</td>\n",
              "      <td>전문대학</td>\n",
              "      <td>충남도립청양대학</td>\n",
              "      <td>본교</td>\n",
              "      <td>사회계열</td>\n",
              "      <td>사회과학</td>\n",
              "      <td>행정</td>\n",
              "      <td>자치행정과</td>\n",
              "      <td>85</td>\n",
              "    </tr>\n",
              "  </tbody>\n",
              "</table>\n",
              "</div>\n",
              "      <button class=\"colab-df-convert\" onclick=\"convertToInteractive('df-b8e4d074-3ca1-4bf2-9a66-c4b4ea26bc15')\"\n",
              "              title=\"Convert this dataframe to an interactive table.\"\n",
              "              style=\"display:none;\">\n",
              "        \n",
              "  <svg xmlns=\"http://www.w3.org/2000/svg\" height=\"24px\"viewBox=\"0 0 24 24\"\n",
              "       width=\"24px\">\n",
              "    <path d=\"M0 0h24v24H0V0z\" fill=\"none\"/>\n",
              "    <path d=\"M18.56 5.44l.94 2.06.94-2.06 2.06-.94-2.06-.94-.94-2.06-.94 2.06-2.06.94zm-11 1L8.5 8.5l.94-2.06 2.06-.94-2.06-.94L8.5 2.5l-.94 2.06-2.06.94zm10 10l.94 2.06.94-2.06 2.06-.94-2.06-.94-.94-2.06-.94 2.06-2.06.94z\"/><path d=\"M17.41 7.96l-1.37-1.37c-.4-.4-.92-.59-1.43-.59-.52 0-1.04.2-1.43.59L10.3 9.45l-7.72 7.72c-.78.78-.78 2.05 0 2.83L4 21.41c.39.39.9.59 1.41.59.51 0 1.02-.2 1.41-.59l7.78-7.78 2.81-2.81c.8-.78.8-2.07 0-2.86zM5.41 20L4 18.59l7.72-7.72 1.47 1.35L5.41 20z\"/>\n",
              "  </svg>\n",
              "      </button>\n",
              "      \n",
              "  <style>\n",
              "    .colab-df-container {\n",
              "      display:flex;\n",
              "      flex-wrap:wrap;\n",
              "      gap: 12px;\n",
              "    }\n",
              "\n",
              "    .colab-df-convert {\n",
              "      background-color: #E8F0FE;\n",
              "      border: none;\n",
              "      border-radius: 50%;\n",
              "      cursor: pointer;\n",
              "      display: none;\n",
              "      fill: #1967D2;\n",
              "      height: 32px;\n",
              "      padding: 0 0 0 0;\n",
              "      width: 32px;\n",
              "    }\n",
              "\n",
              "    .colab-df-convert:hover {\n",
              "      background-color: #E2EBFA;\n",
              "      box-shadow: 0px 1px 2px rgba(60, 64, 67, 0.3), 0px 1px 3px 1px rgba(60, 64, 67, 0.15);\n",
              "      fill: #174EA6;\n",
              "    }\n",
              "\n",
              "    [theme=dark] .colab-df-convert {\n",
              "      background-color: #3B4455;\n",
              "      fill: #D2E3FC;\n",
              "    }\n",
              "\n",
              "    [theme=dark] .colab-df-convert:hover {\n",
              "      background-color: #434B5C;\n",
              "      box-shadow: 0px 1px 3px 1px rgba(0, 0, 0, 0.15);\n",
              "      filter: drop-shadow(0px 1px 2px rgba(0, 0, 0, 0.3));\n",
              "      fill: #FFFFFF;\n",
              "    }\n",
              "  </style>\n",
              "\n",
              "      <script>\n",
              "        const buttonEl =\n",
              "          document.querySelector('#df-b8e4d074-3ca1-4bf2-9a66-c4b4ea26bc15 button.colab-df-convert');\n",
              "        buttonEl.style.display =\n",
              "          google.colab.kernel.accessAllowed ? 'block' : 'none';\n",
              "\n",
              "        async function convertToInteractive(key) {\n",
              "          const element = document.querySelector('#df-b8e4d074-3ca1-4bf2-9a66-c4b4ea26bc15');\n",
              "          const dataTable =\n",
              "            await google.colab.kernel.invokeFunction('convertToInteractive',\n",
              "                                                     [key], {});\n",
              "          if (!dataTable) return;\n",
              "\n",
              "          const docLinkHtml = 'Like what you see? Visit the ' +\n",
              "            '<a target=\"_blank\" href=https://colab.research.google.com/notebooks/data_table.ipynb>data table notebook</a>'\n",
              "            + ' to learn more about interactive tables.';\n",
              "          element.innerHTML = '';\n",
              "          dataTable['output_type'] = 'display_data';\n",
              "          await google.colab.output.renderOutput(dataTable, element);\n",
              "          const docLink = document.createElement('div');\n",
              "          docLink.innerHTML = docLinkHtml;\n",
              "          element.appendChild(docLink);\n",
              "        }\n",
              "      </script>\n",
              "    </div>\n",
              "  </div>\n",
              "  "
            ]
          },
          "metadata": {},
          "execution_count": 12
        }
      ]
    },
    {
      "cell_type": "code",
      "source": [
        "category_big_list = list(set(Data_fin['대계열'].values.tolist()))\n",
        "year_list = list(set(Data_fin['조사회차'].values.tolist()))\n",
        "temp = []\n",
        "\n",
        "for category in category_big_list:\n",
        "  for year in year_list:\n",
        "    d = {\n",
        "        'year' : year,\n",
        "        '대계열' : category,\n",
        "        '모집인원' : sum(Data_fin[(Data_fin['대계열'] == category) & (Data_fin['조사회차'] == year)]['모집인원'])\n",
        "    }\n",
        "    temp.append(d)\n",
        "\n",
        "year_list.sort()\n",
        "\n",
        "dt = pd.DataFrame(temp)\n",
        "cat_list = list(set(dt['대계열'].values.tolist()))\n",
        "cat_list.sort()\n",
        "\n",
        "temp = []\n",
        "for cat in cat_list:\n",
        "  t = dt[dt['대계열'] == cat]\n",
        "  temp.append(t.sort_values(by='year'))\n",
        "\n",
        "for i in range(len(temp)):\n",
        "  plt.bar(year_list, temp[i]['모집인원'], label=cat_list[i])\n",
        "\n",
        "plt.legend()"
      ],
      "metadata": {
        "colab": {
          "base_uri": "https://localhost:8080/",
          "height": 448
        },
        "id": "bg2dnOa1WFk_",
        "outputId": "80879c4e-5829-4f5a-ef8b-d6c8af418edf"
      },
      "execution_count": 136,
      "outputs": [
        {
          "output_type": "execute_result",
          "data": {
            "text/plain": [
              "<matplotlib.legend.Legend at 0x7fc6fc117730>"
            ]
          },
          "metadata": {},
          "execution_count": 136
        },
        {
          "output_type": "display_data",
          "data": {
            "text/plain": [
              "<Figure size 640x480 with 1 Axes>"
            ],
            "image/png": "[encoded data removed]"
          },
          "metadata": {}
        }
      ]
    },
    {
      "cell_type": "code",
      "source": [
        "temp_1 = []\n",
        "\n",
        "\n",
        "for year in year_list:\n",
        "    temp_1.append(dt[dt['year'] == year_list[0]])\n",
        "\n",
        "temp_1\n",
        "\n",
        "##이걸로 파이 차트 만들기 "
      ],
      "metadata": {
        "colab": {
          "base_uri": "https://localhost:8080/"
        },
        "id": "Ys3t7t5kL_iH",
        "outputId": "6195cf30-6259-47c8-8c4e-6800ee2f010a"
      },
      "execution_count": 167,
      "outputs": [
        {
          "output_type": "execute_result",
          "data": {
            "text/plain": [
              "[    year    대계열    모집인원\n",
              " 7   2014   교육계열   29932\n",
              " 16  2014   인문계열   51151\n",
              " 25  2014   사회계열  139914\n",
              " 34  2014   의약계열   50291\n",
              " 43  2014   공학계열  133617\n",
              " 52  2014  예체능계열   75768\n",
              " 61  2014   자연계열   58221,\n",
              "     year    대계열    모집인원\n",
              " 7   2014   교육계열   29932\n",
              " 16  2014   인문계열   51151\n",
              " 25  2014   사회계열  139914\n",
              " 34  2014   의약계열   50291\n",
              " 43  2014   공학계열  133617\n",
              " 52  2014  예체능계열   75768\n",
              " 61  2014   자연계열   58221,\n",
              "     year    대계열    모집인원\n",
              " 7   2014   교육계열   29932\n",
              " 16  2014   인문계열   51151\n",
              " 25  2014   사회계열  139914\n",
              " 34  2014   의약계열   50291\n",
              " 43  2014   공학계열  133617\n",
              " 52  2014  예체능계열   75768\n",
              " 61  2014   자연계열   58221,\n",
              "     year    대계열    모집인원\n",
              " 7   2014   교육계열   29932\n",
              " 16  2014   인문계열   51151\n",
              " 25  2014   사회계열  139914\n",
              " 34  2014   의약계열   50291\n",
              " 43  2014   공학계열  133617\n",
              " 52  2014  예체능계열   75768\n",
              " 61  2014   자연계열   58221,\n",
              "     year    대계열    모집인원\n",
              " 7   2014   교육계열   29932\n",
              " 16  2014   인문계열   51151\n",
              " 25  2014   사회계열  139914\n",
              " 34  2014   의약계열   50291\n",
              " 43  2014   공학계열  133617\n",
              " 52  2014  예체능계열   75768\n",
              " 61  2014   자연계열   58221,\n",
              "     year    대계열    모집인원\n",
              " 7   2014   교육계열   29932\n",
              " 16  2014   인문계열   51151\n",
              " 25  2014   사회계열  139914\n",
              " 34  2014   의약계열   50291\n",
              " 43  2014   공학계열  133617\n",
              " 52  2014  예체능계열   75768\n",
              " 61  2014   자연계열   58221,\n",
              "     year    대계열    모집인원\n",
              " 7   2014   교육계열   29932\n",
              " 16  2014   인문계열   51151\n",
              " 25  2014   사회계열  139914\n",
              " 34  2014   의약계열   50291\n",
              " 43  2014   공학계열  133617\n",
              " 52  2014  예체능계열   75768\n",
              " 61  2014   자연계열   58221,\n",
              "     year    대계열    모집인원\n",
              " 7   2014   교육계열   29932\n",
              " 16  2014   인문계열   51151\n",
              " 25  2014   사회계열  139914\n",
              " 34  2014   의약계열   50291\n",
              " 43  2014   공학계열  133617\n",
              " 52  2014  예체능계열   75768\n",
              " 61  2014   자연계열   58221,\n",
              "     year    대계열    모집인원\n",
              " 7   2014   교육계열   29932\n",
              " 16  2014   인문계열   51151\n",
              " 25  2014   사회계열  139914\n",
              " 34  2014   의약계열   50291\n",
              " 43  2014   공학계열  133617\n",
              " 52  2014  예체능계열   75768\n",
              " 61  2014   자연계열   58221]"
            ]
          },
          "metadata": {},
          "execution_count": 167
        }
      ]
    },
    {
      "cell_type": "code",
      "source": [
        "}\n",
        "import matplotlib.pyplot as plt\n",
        "import pandas as pd\n",
        "\n",
        "category_big_list = list(set(Data_fin['대계열'].values.tolist()))\n",
        "year_list = list(set(Data_fin['조사회차'].values.tolist()))\n",
        "temp = []\n",
        "\n",
        "for year in year_list:\n",
        "    for category in category_big_list:\n",
        "        d = {\n",
        "            'year': year,\n",
        "            '대계열': category,\n",
        "            '모집인원': sum(Data_fin[(Data_fin['대계열'] == category) & (Data_fin['조사회차'] == year)]['모집인원'])\n",
        "        }\n",
        "        temp.append(d)\n",
        "\n",
        "year_list.sort()\n",
        "count_list = []\n",
        "\n",
        "dt = pd.DataFrame(temp)\n",
        "temp = dt.sort_values(by='year')\n",
        "\n",
        "fig, ax = plt.subplots()\n",
        "\n",
        "\n",
        "for i, (index, row) in enumerate(temp.iterrows()):\n",
        "    year_index = year_list.index(row['year'])\n",
        "    category_index = category_big_list.index(row['대계열'])\n",
        "    ax.bar(year_list, row['모집인원'], label=row['대계열'])\n",
        "\n",
        "# # 중복된 범례 제거\n",
        "# handles, labels = ax.get_legend_handles_labels()\n",
        "# by_label = dict(zip(labels, handles))\n",
        "# ax.legend(by_label.values(), by_label.keys())\n",
        "\n",
        "# plt.show()\n",
        "# print(category_big_list)"
      ],
      "metadata": {
        "colab": {
          "base_uri": "https://localhost:8080/",
          "height": 430
        },
        "id": "K92-zzjX8Iu7",
        "outputId": "a409b9e4-21e5-4692-8d47-d59de0b99a85"
      },
      "execution_count": 53,
      "outputs": [
        {
          "output_type": "display_data",
          "data": {
            "text/plain": [
              "<Figure size 640x480 with 1 Axes>"
            ],
            "image/png": "[encoded data removed]"
          },
          "metadata": {}
        }
      ]
    },
    {
      "cell_type": "code",
      "source": [
        "year_list"
      ],
      "metadata": {
        "colab": {
          "base_uri": "https://localhost:8080/"
        },
        "id": "_m4-SpBs8h4j",
        "outputId": "862d0cb2-8d90-4b75-df5e-7fdab3c83f79"
      },
      "execution_count": 11,
      "outputs": [
        {
          "output_type": "execute_result",
          "data": {
            "text/plain": [
              "[2014, 2015, 2016, 2017, 2018, 2019, 2020, 2021, 2022]"
            ]
          },
          "metadata": {},
          "execution_count": 11
        }
      ]
    },
    {
      "cell_type": "code",
      "source": [
        "row"
      ],
      "metadata": {
        "colab": {
          "base_uri": "https://localhost:8080/"
        },
        "id": "MeQzGctx6y0j",
        "outputId": "d9d5a843-7761-48be-c5d9-1e761d97ae78"
      },
      "execution_count": 5,
      "outputs": [
        {
          "output_type": "execute_result",
          "data": {
            "text/plain": [
              "(6,\n",
              " year     2022\n",
              " 대계열      교육계열\n",
              " 모집인원    24036\n",
              " Name: 6, dtype: object)"
            ]
          },
          "metadata": {},
          "execution_count": 5
        }
      ]
    },
    {
      "cell_type": "code",
      "source": [
        "\n",
        "\n",
        "for dt in temp:\n",
        "  \n",
        "  year.append()\n",
        "    "
      ],
      "metadata": {
        "id": "Rux4VDs5WtXx",
        "colab": {
          "base_uri": "https://localhost:8080/",
          "height": 229
        },
        "outputId": "a674015a-8c25-47b9-f76c-1e6778aa9f69"
      },
      "execution_count": 3,
      "outputs": [
        {
          "output_type": "error",
          "ename": "AttributeError",
          "evalue": "ignored",
          "traceback": [
            "\u001b[0;31m---------------------------------------------------------------------------\u001b[0m",
            "\u001b[0;31mAttributeError\u001b[0m                            Traceback (most recent call last)",
            "\u001b[0;32m<ipython-input-3-80fc40259b43>\u001b[0m in \u001b[0;36m<cell line: 1>\u001b[0;34m()\u001b[0m\n\u001b[1;32m      1\u001b[0m \u001b[0;32mfor\u001b[0m \u001b[0mdt\u001b[0m \u001b[0;32min\u001b[0m \u001b[0mtemp\u001b[0m\u001b[0;34m:\u001b[0m\u001b[0;34m\u001b[0m\u001b[0;34m\u001b[0m\u001b[0m\n\u001b[1;32m      2\u001b[0m \u001b[0;34m\u001b[0m\u001b[0m\n\u001b[0;32m----> 3\u001b[0;31m   \u001b[0myear\u001b[0m\u001b[0;34m.\u001b[0m\u001b[0mappend\u001b[0m\u001b[0;34m(\u001b[0m\u001b[0;34m)\u001b[0m\u001b[0;34m\u001b[0m\u001b[0;34m\u001b[0m\u001b[0m\n\u001b[0m\u001b[1;32m      4\u001b[0m \u001b[0;34m\u001b[0m\u001b[0m\n",
            "\u001b[0;31mAttributeError\u001b[0m: 'int' object has no attribute 'append'"
          ]
        }
      ]
    },
    {
      "cell_type": "code",
      "source": [
        "def scale(num,min_b,max_b):\n",
        "  return ((num - min_b)*(100)) / (max_b-min_b)"
      ],
      "metadata": {
        "id": "3mKncKzT6M5n"
      },
      "execution_count": null,
      "outputs": []
    },
    {
      "cell_type": "code",
      "source": [
        "import numpy as np\n",
        "##20년도 대학별 모집인원 자세한 설명 22년쪽 \n",
        "x = set(Data_fin['중계열'])\n",
        "k= Data_fin[Data_fin['중계열'] == '컴퓨터ㆍ통신']\n",
        "year20 = Data_fin[(Data_fin['조사회차'] == 2020) & (Data_fin['중계열'] == '컴퓨터ㆍ통신' )]\n",
        "un20 = []\n",
        "num20 = []\n",
        "\n",
        "for (k1,k2,k3), group in year20.groupby(['학교명','중계열','모집인원']):\n",
        "    un20.append(k1)\n",
        "    num20.append(int(k3))\n",
        "\n",
        "resultun20 = []\n",
        "resultnum20 = []\n",
        "\n",
        "for i in range(len(un20)):\n",
        "  for j in range(i+1,len(un20)):\n",
        "    if(un20[i] == un20[j]):\n",
        "      resultnum20.append(num20[i] + num20[j])\n",
        "\n",
        "for value in un20:\n",
        "    if value not in resultun20:\n",
        "        resultun20.append(value)"
      ],
      "metadata": {
        "id": "bamLIorelJ-W"
      },
      "execution_count": null,
      "outputs": []
    },
    {
      "cell_type": "code",
      "source": [
        "##21년도 대학별 모집인원 자세한 설명 22년쪽\n",
        "x = set(Data_fin['중계열'])\n",
        "k= Data_fin[Data_fin['중계열'] == '컴퓨터ㆍ통신']\n",
        "year21 = Data_fin[(Data_fin['조사회차'] == 2021) & (Data_fin['중계열'] == '컴퓨터ㆍ통신' )]\n",
        "un21 = []\n",
        "num21 = []\n",
        "\n",
        "for (k1,k2,k3), group in year21.groupby(['학교명','중계열','모집인원']):\n",
        "    un21.append(k1)\n",
        "    num21.append(int(k3))\n",
        "\n",
        "resultun21 = []\n",
        "resultnum21 = []\n",
        "\n",
        "for i in range(len(un21)):\n",
        "  for j in range(i+1,len(un21)):\n",
        "    if(un21[i] == un21[j]):\n",
        "      resultnum21.append(num21[i] + num21[j])\n",
        "\n",
        "for value in un21:\n",
        "    if value not in resultun21:\n",
        "        resultun21.append(value)\n"
      ],
      "metadata": {
        "id": "ELhEOB6J3Xut"
      },
      "execution_count": null,
      "outputs": []
    },
    {
      "cell_type": "code",
      "source": [
        "x = set(Data_fin['중계열']) \n",
        "k= Data_fin[Data_fin['중계열'] == '컴퓨터ㆍ통신'] \n",
        "year22 = Data_fin[(Data_fin['조사회차'] == 2022) & (Data_fin['중계열'] == '컴퓨터ㆍ통신' )] ##년도와 중계열별로 나눔\n",
        "un22 = [] ## 22년도 대학\n",
        "num22 = [] ## 22년도 대학 모집인원\n",
        "\n",
        "for (k1,k2,k3), group in year22.groupby(['학교명','중계열','모집인원']):\n",
        "    un22.append(k1)\n",
        "    num22.append(int(k3))\n",
        "\n",
        "resultun22 = [] ##22년도 최종 대학 이름\n",
        "resultnum22 = [] ## 22년도 최종 대학 모집인원 (대학과 순서 맞춰놔서 인덱스번호만 따서 쓰면 됨)\n",
        "for i in range(len(un22)):\n",
        "  for j in range(i+1,len(un22)):\n",
        "    if(un22[i] == un22[j]): ## 중복되는 대학교 학생수 더해주기\n",
        "      resultnum22.append(num22[i] + num22[j])\n",
        "\n",
        "for value in un22:## 대학 이름 중복제거 \n",
        "    if value not in resultun22:\n",
        "        resultun22.append(value) ## 각각 대학 수가 달라서 인덱스 번호 오차가 잇을수 있음 고쳐야함 \n",
        "print(resultun22)"
      ],
      "metadata": {
        "colab": {
          "base_uri": "https://localhost:8080/"
        },
        "id": "p8KifCj34VWP",
        "outputId": "89f76251-ef27-4cd2-cad6-9aa82a0bdd3c"
      },
      "execution_count": null,
      "outputs": [
        {
          "output_type": "stream",
          "name": "stdout",
          "text": [
            "['가천대학교', '가톨릭관동대학교', '가톨릭대학교', '강남대학교', '강릉영동대학교', '강릉원주대학교', '강원대학교', '건국대학교', '건양대학교', '경기과학기술대학교', '경기대학교', '경남대학교', '경남도립남해대학', '경남정보대학교', '경동대학교', '경민대학교', '경복대학교', '경북대학교', '경상국립대학교', '경성대학교', '경운대학교', '경인여자대학교', '경일대학교', '경희대학교', '계명대학교', '계명문화대학교', '고려대학교', '고려대학교 세종캠퍼스', '공주대학교', '광운대학교', '광주대학교', '광주여자대학교', '국민대학교', '국제대학교', '군산대학교', '군장대학교', '극동대학교', '금오공과대학교', '김포대학교', '나사렛대학교', '남서울대학교', '단국대학교', '대구가톨릭대학교', '대구공업대학교', '대구과학대학교', '대구대학교', '대구한의대학교', '대덕대학교', '대림대학교', '대원대학교', '대전과학기술대학교', '대전대학교', '대전보건대학교', '대진대학교', '동강대학교', '동국대학교', '동덕여자대학교', '동명대학교', '동서대학교', '동서울대학교', '동신대학교', '동아대학교', '동아방송예술대학교', '동양대학교', '동양미래대학교', '동원대학교', '동의과학대학교', '동의대학교', '두원공과대학교', '마산대학교', '명지대학교 인문캠퍼스', '명지대학교 자연캠퍼스', '명지전문대학', '목원대학교', '목포대학교', '배재대학교', '배화여자대학교', '백석대학교', '백석문화대학교', '부경대학교', '부산가톨릭대학교', '부산경상대학교', '부산과학기술대학교', '부산대학교', '부산외국어대학교', '부천대학교', '삼육대학교', '상명대학교', '상지대학교', '서강대학교', '서경대학교', '서영대학교', '서울과학기술대학교', '서울대학교', '서울시립대학교', '서울신학대학교', '서울여자대학교', '서원대학교', '서일대학교', '서정대학교', '선문대학교', '성결대학교', '성공회대학교', '성균관대학교', '성신여자대학교', '세명대학교', '세종대학교', '세한대학교', '수성대학교', '수원과학대학교', '수원대학교', '수원여자대학교', '숙명여자대학교', '순천대학교', '순천제일대학교', '순천향대학교', '숭실대학교', '신경대학교', '신구대학교', '신라대학교', '신안산대학교', '신한대학교', '아주대학교', '안동과학대학교', '안동대학교', '안산대학교', '안양대학교', '연성대학교', '연세대학교', '연세대학교 미래캠퍼스', '연암공과대학교', '영남대학교', '영남이공대학교', '영산대학교', '영진전문대학교', '오산대학교', '용인대학교', '용인예술과학대학교', '우석대학교', '우송대학교(본교)', '우송정보대학', '울산과학대학교', '울산대학교', '원광대학교', '위덕대학교', '유원대학교', '유한대학교', '을지대학교', '이화여자대학교', '인덕대학교', '인제대학교', '인천대학교', '인천재능대학교', '인하공업전문대학', '인하대학교', '장안대학교', '전남과학대학교', '전남대학교', '전남도립대학교', '전북과학대학교', '전북대학교', '전주대학교', '전주비전대학교', '제주관광대학교', '제주대학교', '제주한라대학교', '조선대학교', '조선이공대학교', '중부대학교', '중앙대학교', '중원대학교', '창신대학교', '창원대학교', '청강문화산업대학교', '청암대학교', '청운대학교', '청주대학교', '충남대학교', '충남도립대학교', '충북대학교', '충북도립대학교', '충북보건과학대학교', '평택대학교', '포항대학교', '한경대학교', '한국공학대학교', '한국교통대학교', '한국기술교육대학교', '한국복지대학교', '한국성서대학교', '한국외국어대학교', '한국항공대학교', '한국해양대학교', '한남대학교', '한림대학교', '한림성심대학교', '한밭대학교', '한서대학교', '한성대학교', '한세대학교', '한신대학교', '한양대학교', '한양여자대학교', '협성대학교', '호남대학교', '호서대학교', '호원대학교', '홍익대학교', '홍익대학교 세종캠퍼스']\n"
          ]
        }
      ]
    },
    {
      "cell_type": "markdown",
      "source": [
        "서울대 93\n",
        "고려대 26\n",
        "연세대 128\n",
        "성균관 103\n",
        "한양 201\n",
        "서강 89\n",
        "이화 148\n",
        "중앙 169\n",
        "경희 23\n",
        "시립 94\n",
        "한외 190\n",
        "건국 7\n",
        "동국 55\n",
        "홍익 207\n",
        "숙명 112\n",
        "국민 32\n",
        "숭실 116\n",
        "서울과기 92\n",
        "상명 87\n",
        "서울여대 96\n",
        "동덕 여대 56\n",
        "한성대 198\n",
        "서경대 90\n",
        "삼육 86\n",
        "한국성서 189\n",
        "백석대 77\n",
        "꺽은선 모집인원 졸업률 취업률 "
      ],
      "metadata": {
        "id": "2HEc05UC-Frv"
      }
    },
    {
      "cell_type": "code",
      "source": [
        "93"
      ],
      "metadata": {
        "colab": {
          "base_uri": "https://localhost:8080/"
        },
        "id": "rnhBN19QVXYg",
        "outputId": "7c02d6c5-e083-44cd-9611-b83fd3f7ebf8"
      },
      "execution_count": null,
      "outputs": [
        {
          "output_type": "execute_result",
          "data": {
            "text/plain": [
              "66"
            ]
          },
          "metadata": {},
          "execution_count": 9
        }
      ]
    },
    {
      "cell_type": "code",
      "source": [
        "def Result_y(a):#20,21,22년도 대학별 모집인원 \n",
        "  return resultnum20[a],resultnum21[a],resultnum22[a]\n",
        "\n",
        "z = [93,26,128,103,201,89,148,169,23,94,190,7,55,207,112,32,116,92,87,96,56,198,90,86,189,77] ##대학별 인덱스 번호 \n",
        "x = ['20','21','22']\n",
        "\n",
        "for i in range(len(z)):\n",
        "  yy = Result_y(z[i])\n",
        "  # plt.plot(x, yy, linestyle='-', marker='o')\n",
        "  plt.bar(x, yy, label=)\n",
        "  \n",
        "\n",
        "## 졸업생과 취업률까지 연관시켜서 진행, 공학쪽만 다룰예정(고졸자 수도 포함해봐도 ㄱㅊ)"
      ],
      "metadata": {
        "colab": {
          "base_uri": "https://localhost:8080/",
          "height": 430
        },
        "id": "eEmmdfL94q9F",
        "outputId": "f2704487-41b0-4112-b85f-a07f43c52162"
      },
      "execution_count": null,
      "outputs": [
        {
          "output_type": "display_data",
          "data": {
            "text/plain": [
              "<Figure size 640x480 with 1 Axes>"
            ],
            "image/png": "[encoded data removed]"
          },
          "metadata": {}
        }
      ]
    },
    {
      "cell_type": "code",
      "source": [
        "x = ['14','15','16','17','18','19','20','21']\n",
        "df = rate[['인문']]\n",
        "\n",
        "temp = rate.values\n",
        "\n",
        "h = []\n",
        "s = []\n",
        "e = []\n",
        "z = []\n",
        "n = []\n",
        "m = []\n",
        "p = []\n",
        "for i in range(8):\n",
        "  h.append(temp[i,1])\n",
        "  s.append(temp[i,2])\n",
        "  e.append(temp[i,3])\n",
        "  z.append(temp[i,4])\n",
        "  n.append(temp[i,5])\n",
        "  m.append(temp[i,6])\n",
        "  p.append(temp[i,7])\n",
        "\n",
        "\n",
        "y = h\n",
        "y2 = s\n",
        "y3 = e\n",
        "y4 = z\n",
        "y5 = n\n",
        "y6 = m\n",
        "y7 = p\n",
        "\n",
        "plt.plot(x, y, linestyle='-', marker='o')\n",
        "plt.plot(x, y2, linestyle='-', marker='o')\n",
        "plt.plot(x, y3, linestyle='-', marker='o')\n",
        "plt.plot(x, y4, linestyle='-', marker='o')\n",
        "plt.plot(x, y5, linestyle='-', marker='o')\n",
        "plt.plot(x, y6, linestyle='-', marker='o')\n",
        "plt.plot(x, y7, linestyle='-', marker='o')\n",
        "plt.legend(['인문', '사회','공학','교육','자연','의학','체육'])\n",
        "plt.show()\n",
        "\n",
        "\n"
      ],
      "metadata": {
        "id": "odmsnC8otEdG"
      },
      "execution_count": null,
      "outputs": []
    },
    {
      "cell_type": "code",
      "source": [
        "#연도별 대학 모집 인원\n",
        "import matplotlib.pyplot as plt\n",
        "import pandas as pd\n",
        "import numpy as np\n",
        "\n",
        "\n",
        "\n",
        "plt.figure(figsize = (20,5))\n",
        "x_values = ['2014','2015','2016','2017','2018','2019','2020','2021']\n",
        "y_values = [9524,9327,9234,8975,8813,8822,8868,8903]\n",
        "plt.plot(x_values,y_values,linestyle='-',marker='o')\n",
        "plt.title('연도별 대학 총 모집인원')\n",
        "plt.show()\n",
        "avg = np.mean(y_values) # 모집인원 평균 구하기\n",
        "avg = round(avg) #소수점 날리기\n",
        "print(avg)\n",
        "temp = []\n",
        "avgYear = []# 모집인원의 격차 구하기 \n",
        "\n",
        "i = 0\n",
        "while i < 8:\n",
        "  x = 0\n",
        "  if y_values[i] < avg:\n",
        "    x = avg - y_values[i]\n",
        "  else:\n",
        "    x = y_values[i] - avg\n",
        "  temp.append(x) \n",
        "  i+=1\n",
        "\n",
        "k = 0\n",
        "while k < 8:\n",
        "  avgYear.append(round(temp[k]/7))\n",
        "  k+= 1\n",
        "print(avgYear)"
      ],
      "metadata": {
        "id": "LQ4Gr4V_pJLb"
      },
      "execution_count": null,
      "outputs": []
    },
    {
      "cell_type": "code",
      "source": [
        "#2014 대학 선호 학과 \n",
        "import matplotlib.pyplot as plt\n",
        "import pandas as pd\n",
        "import numpy as np\n",
        "\n",
        "\n",
        "range_ = file.iloc[0:9624]\n",
        "\n",
        "arr = np.array(range_['대계열'].value_counts())\n",
        "\n",
        "org1 = pd.DataFrame({\n",
        "    '대계열' : ['사회계열','공학계열','예체능계열','자연계열','인문계열','의약계열','교육계열'],\n",
        "    '인원' :  arr\n",
        "})\n",
        "fin = org1.groupby('대계열').sum()\n",
        "plt.figure(figsize=(12, 8))\n",
        "plt.bar(fin.index, fin.인원)\n",
        "plt.title(\"2014년도 대학 선호 학과\", fontsize=20)\n",
        "plt.xlabel(\"대계열\", fontsize=12, loc= 'right')\n",
        "plt.ylabel(\"모집인원\", fontsize=12,loc = 'top')\n",
        "plt.xticks(fontsize=16)\n",
        "plt.show()\n",
        "np.array(range_['대계열'].value_counts())\n"
      ],
      "metadata": {
        "id": "xmNvDDAqrYD8"
      },
      "execution_count": null,
      "outputs": []
    },
    {
      "cell_type": "code",
      "source": [
        "org1_fin = org1.set_index('대계열') \n",
        "org1_fin\n"
      ],
      "metadata": {
        "id": "bAI6-mxRWQe_"
      },
      "execution_count": null,
      "outputs": []
    },
    {
      "cell_type": "code",
      "source": [
        "#2015 대학 선호 학과 \n",
        "import matplotlib.pyplot as plt\n",
        "import pandas as pd\n",
        "import numpy as np\n",
        "\n",
        "\n",
        "range2 = file.iloc[9624:19003]\n",
        "\n",
        "arr2 = np.array(range2['대계열'].value_counts())\n",
        "\n",
        "org2 = pd.DataFrame({\n",
        "    '대계열' : ['사회계열','공학계열','예체능계열','자연계열','인문계열','의약계열','교육계열'],\n",
        "    '인원' :  arr2\n",
        "})\n",
        "fin2 = org2.groupby('대계열').sum()\n",
        "plt.figure(figsize=(12, 8))\n",
        "plt.bar(fin2.index, fin2.인원)\n",
        "plt.title(\"2015년도 대학 선호 학과\", fontsize=20)\n",
        "plt.xlabel(\"대계열\", fontsize=12, loc= 'right')\n",
        "plt.ylabel(\"모집인원\", fontsize=12,loc = 'top')\n",
        "plt.xticks(fontsize=16)\n",
        "plt.show()\n"
      ],
      "metadata": {
        "id": "lFYY43SGIwC_"
      },
      "execution_count": null,
      "outputs": []
    },
    {
      "cell_type": "code",
      "source": [
        "org2_fin = org2.set_index('대계열')\n",
        "org2_fin"
      ],
      "metadata": {
        "id": "vyXWk8ZbJYTW"
      },
      "execution_count": null,
      "outputs": []
    },
    {
      "cell_type": "code",
      "source": [
        "#2016 대학 선호 학과 \n",
        "import matplotlib.pyplot as plt\n",
        "import pandas as pd\n",
        "import numpy as np\n",
        "\n",
        "\n",
        "range3 = file.iloc[19003:28237]\n",
        "\n",
        "arr3 = np.array(range3['대계열'].value_counts())\n",
        "\n",
        "org3 = pd.DataFrame({\n",
        "    '대계열' : ['사회계열','공학계열','예체능계열','자연계열','인문계열','의약계열','교육계열'],\n",
        "    '인원' :  arr3\n",
        "})\n",
        "fin3 = org3.groupby('대계열').sum()\n",
        "plt.figure(figsize=(12, 8))\n",
        "plt.bar(fin3.index, fin3.인원)\n",
        "plt.title(\"2016년도 대학 선호 학과\", fontsize=20)\n",
        "plt.xlabel(\"대계열\", fontsize=12, loc= 'right')\n",
        "plt.ylabel(\"모집인원\", fontsize=12,loc = 'top')\n",
        "plt.xticks(fontsize=16)\n",
        "plt.show()"
      ],
      "metadata": {
        "id": "ABt9pRycKYdu"
      },
      "execution_count": null,
      "outputs": []
    },
    {
      "cell_type": "code",
      "source": [
        "org3_fin = org3.set_index('대계열')\n",
        "org3_fin"
      ],
      "metadata": {
        "id": "qEy1qsM1KsMI"
      },
      "execution_count": null,
      "outputs": []
    },
    {
      "cell_type": "code",
      "source": [
        "#2017 대학 선호 학과 \n",
        "import matplotlib.pyplot as plt\n",
        "import pandas as pd\n",
        "import numpy as np\n",
        "\n",
        "\n",
        "range4 = file.iloc[28237:37212]\n",
        "\n",
        "arr4 = np.array(range4['대계열'].value_counts())\n",
        "\n",
        "org4 = pd.DataFrame({\n",
        "    '대계열' : ['사회계열','공학계열','예체능계열','자연계열','인문계열','의약계열','교육계열'],\n",
        "    '인원' :  arr4\n",
        "})\n",
        "fin4 = org4.groupby('대계열').sum()\n",
        "plt.figure(figsize=(12, 8))\n",
        "plt.bar(fin4.index, fin4.인원)\n",
        "plt.title(\"2017년도 대학 선호 학과\", fontsize=20)\n",
        "plt.xlabel(\"대계열\", fontsize=12, loc= 'right')\n",
        "plt.ylabel(\"모집인원\", fontsize=12,loc = 'top')\n",
        "plt.xticks(fontsize=16)\n",
        "plt.show()"
      ],
      "metadata": {
        "id": "85Ot-hj2LVMZ"
      },
      "execution_count": null,
      "outputs": []
    },
    {
      "cell_type": "code",
      "source": [
        "org4_fin = org4.set_index('대계열')\n",
        "org4_fin"
      ],
      "metadata": {
        "id": "6-3b67N5Ljex"
      },
      "execution_count": null,
      "outputs": []
    },
    {
      "cell_type": "code",
      "source": [
        "#2018 대학 선호 학과 \n",
        "import matplotlib.pyplot as plt\n",
        "import pandas as pd\n",
        "import numpy as np\n",
        "\n",
        "\n",
        "range5 = file.iloc[37212:46025]\n",
        "\n",
        "arr5 = np.array(range5['대계열'].value_counts())\n",
        "\n",
        "org5 = pd.DataFrame({\n",
        "    '대계열' : ['사회계열','공학계열','예체능계열','자연계열','인문계열','의약계열','교육계열'],\n",
        "    '인원' :  arr5\n",
        "})\n",
        "fin5 = org5.groupby('대계열').sum()\n",
        "plt.figure(figsize=(12, 8))\n",
        "plt.bar(fin5.index, fin5.인원)\n",
        "plt.title(\"2018년도 대학 선호 학과\", fontsize=20)\n",
        "plt.xlabel(\"대계열\", fontsize=12, loc= 'right')\n",
        "plt.ylabel(\"모집인원\", fontsize=12,loc = 'top')\n",
        "plt.xticks(fontsize=16)\n",
        "plt.show()"
      ],
      "metadata": {
        "id": "rWQliK8ds7k5"
      },
      "execution_count": null,
      "outputs": []
    },
    {
      "cell_type": "code",
      "source": [
        "org5_fin = org5.set_index('대계열')\n",
        "org5_fin\n"
      ],
      "metadata": {
        "id": "85-__f8bz1r7"
      },
      "execution_count": null,
      "outputs": []
    },
    {
      "cell_type": "code",
      "source": [
        "#2019 대학 선호 학과 \n",
        "import matplotlib.pyplot as plt\n",
        "import pandas as pd\n",
        "import numpy as np\n",
        "\n",
        "\n",
        "range6 = file.iloc[46025:54847]\n",
        "\n",
        "arr6 = np.array(range6['대계열'].value_counts())\n",
        "\n",
        "org6 = pd.DataFrame({\n",
        "    '대계열' : ['사회계열','공학계열','예체능계열','자연계열','인문계열','의약계열','교육계열'],\n",
        "    '인원' :  arr6\n",
        "})\n",
        "fin6 = org6.groupby('대계열').sum()\n",
        "plt.figure(figsize=(12, 8))\n",
        "plt.bar(fin6.index, fin6.인원)\n",
        "plt.title(\"2019년도 대학 선호 학과\", fontsize=20)\n",
        "plt.xlabel(\"대계열\", fontsize=12, loc= 'right')\n",
        "plt.ylabel(\"모집인원\", fontsize=12,loc = 'top')\n",
        "plt.xticks(fontsize=16)\n",
        "plt.show()"
      ],
      "metadata": {
        "id": "pzZCif_kz5hx"
      },
      "execution_count": null,
      "outputs": []
    },
    {
      "cell_type": "code",
      "source": [
        "org6_fin = org6.set_index('대계열')\n",
        "org6_fin"
      ],
      "metadata": {
        "id": "3HHT9pLm0LaT"
      },
      "execution_count": null,
      "outputs": []
    },
    {
      "cell_type": "code",
      "source": [
        "#2020 대학 선호 학과 \n",
        "import matplotlib.pyplot as plt\n",
        "import pandas as pd\n",
        "import numpy as np\n",
        "\n",
        "\n",
        "range7 = file.iloc[54847:63715]\n",
        "\n",
        "arr7 = np.array(range7['대계열'].value_counts())\n",
        "\n",
        "org7 = pd.DataFrame({\n",
        "    '대계열' : ['사회계열','공학계열','예체능계열','자연계열','인문계열','의약계열','교육계열'],\n",
        "    '인원' :  arr7\n",
        "})\n",
        "fin7 = org7.groupby('대계열').sum()\n",
        "plt.figure(figsize=(12, 8))\n",
        "plt.bar(fin7.index, fin7.인원)\n",
        "plt.title(\"2020년도 대학 선호 학과\", fontsize=20)\n",
        "plt.xlabel(\"대계열\", fontsize=12, loc= 'right')\n",
        "plt.ylabel(\"모집인원\", fontsize=12,loc = 'top')\n",
        "plt.xticks(fontsize=16)\n",
        "plt.show()"
      ],
      "metadata": {
        "id": "MDLsKAEYSKkO"
      },
      "execution_count": null,
      "outputs": []
    },
    {
      "cell_type": "code",
      "source": [
        "org7_fin = org7.set_index('대계열')\n",
        "org7_fin"
      ],
      "metadata": {
        "id": "mo8H0DejXzju"
      },
      "execution_count": null,
      "outputs": []
    },
    {
      "cell_type": "code",
      "source": [
        "#2021 대학 선호 학과 \n",
        "import matplotlib.pyplot as plt\n",
        "import pandas as pd\n",
        "import numpy as np\n",
        "\n",
        "\n",
        "range8 = file.iloc[63715:72618]\n",
        "\n",
        "arr8 = np.array(range8['대계열'].value_counts())\n",
        "\n",
        "org8 = pd.DataFrame({\n",
        "    '대계열' : ['사회계열','공학계열','예체능계열','자연계열','인문계열','의약계열','교육계열'],\n",
        "    '인원' :  arr8\n",
        "})\n",
        "fin8 = org8.groupby('대계열').sum()\n",
        "plt.figure(figsize=(12, 8))\n",
        "plt.bar(fin8.index, fin8.인원)\n",
        "plt.title(\"2021년도 대학 선호 학과\", fontsize=20)\n",
        "plt.xlabel(\"대계열\", fontsize=12, loc= 'right')\n",
        "plt.ylabel(\"모집인원\", fontsize=12,loc = 'top')\n",
        "plt.xticks(fontsize=16)\n",
        "plt.show()"
      ],
      "metadata": {
        "id": "aqM0s2QaXx7n"
      },
      "execution_count": null,
      "outputs": []
    },
    {
      "cell_type": "code",
      "source": [
        "org8_fin = org8.set_index('대계열')\n",
        "org8_fin"
      ],
      "metadata": {
        "id": "52UIUSwqYFLk"
      },
      "execution_count": null,
      "outputs": []
    },
    {
      "cell_type": "code",
      "source": [
        "\n",
        "my_range = [] # 전체데이터\n",
        "my_arr = [] # 14년도부터 21년까지 계열별 모집 학생 수\n",
        "year_per = [] # 14년도부터 21년까지 계열별 모집 학생 %\n",
        "\n",
        "my_range.append(range_)\n",
        "my_range.append(range2)\n",
        "my_range.append(range3)\n",
        "my_range.append(range4)\n",
        "my_range.append(range5)\n",
        "my_range.append(range6)\n",
        "my_range.append(range7)\n",
        "my_range.append(range8)\n",
        "\n",
        "for i in range(8): \n",
        "  my_arr.append(np.array(my_range[i]['대계열'].value_counts()))\n",
        "\n",
        "for x in my_arr:\n",
        "  temp = []\n",
        "  s = sum(x)\n",
        "  for i in range(len(x)):\n",
        "    temp.append(x[i] / s * 100)\n",
        "  year_per.append(temp)\n",
        "\n",
        "# for x in year_per:\n",
        "#   print(x)\n",
        "\n",
        "# yValues = temp0[0:8]\n",
        "# plt.plot(x_values,yValues)\n",
        "# plt.plot(x_values,temp0[8:16])\n",
        "# plt.plot(x_values,temp0[16:24])\n",
        "# plt.show()\n",
        "\n",
        "x_values = ['2014','2015','2016','2017','2018','2019','2020','2021']\n",
        "y_values = []\n",
        "for i in range(7):\n",
        "  temp = []\n",
        "  for j in range(8):\n",
        "    temp.append(year_per[j][i])\n",
        "  y_values.append(temp)\n",
        "\n",
        "for y in y_values:\n",
        "  plt.plot(x_values, y)\n",
        "\n",
        "plt.legend(['사회', '공학','예체능','자연','인문','의학','교육'])\n",
        "plt.show()"
      ],
      "metadata": {
        "id": "saw3pssJ6D2A"
      },
      "execution_count": null,
      "outputs": []
    },
    {
      "cell_type": "code",
      "source": [
        "x = ['14','15','16','17','18','19','20','21']\n",
        "df = rate[['인문']]\n",
        "\n",
        "temp = rate.values\n",
        "\n",
        "h = []\n",
        "s = []\n",
        "e = []\n",
        "z = []\n",
        "n = []\n",
        "m = []\n",
        "p = []\n",
        "for i in range(8):\n",
        "  h.append(temp[i,1])\n",
        "  s.append(temp[i,2])\n",
        "  e.append(temp[i,3])\n",
        "  z.append(temp[i,4])\n",
        "  n.append(temp[i,5])\n",
        "  m.append(temp[i,6])\n",
        "  p.append(temp[i,7])\n",
        "\n",
        "\n",
        "y = h\n",
        "y2 = s\n",
        "y3 = e\n",
        "y4 = z\n",
        "y5 = n\n",
        "y6 = m\n",
        "y7 = p\n",
        "\n",
        "plt.plot(x, y, linestyle='-', marker='o')\n",
        "plt.plot(x, y2, linestyle='-', marker='o')\n",
        "plt.plot(x, y3, linestyle='-', marker='o')\n",
        "plt.plot(x, y4, linestyle='-', marker='o')\n",
        "plt.plot(x, y5, linestyle='-', marker='o')\n",
        "plt.plot(x, y6, linestyle='-', marker='o')\n",
        "plt.plot(x, y7, linestyle='-', marker='o')\n",
        "plt.legend(['인문', '사회','공학','교육','자연','의학','체육'])\n",
        "plt.show()"
      ],
      "metadata": {
        "id": "WJF02vGpCR9v"
      },
      "execution_count": null,
      "outputs": []
    },
    {
      "cell_type": "code",
      "source": [
        "##[9524,9327,9234,8975,8813,8822,8868,8903]\n",
        "l2014 = []\n",
        "l2015 = []\n",
        "l2016 = []\n",
        "l2017 = []\n",
        "l2018 = []\n",
        "l2019 = []\n",
        "l2020 = []\n",
        "l2021 = []\n",
        "for i in range(7):\n",
        "  l2014.append(arr[i]/9524*100)\n",
        "  l2015.append(arr2[i]/9327*100)\n",
        "  l2016.append(arr3[i]/9534*100)\n",
        "  l2017.append(arr4[i]/8975*100)\n",
        "  l2018.append(arr5[i]/8822*100)\n",
        "  l2019.append(arr6[i]/8822*100)\n",
        "  l2020.append(arr7[i]/8868*100)\n",
        "  l2021.append(arr8[i]/8903*100)\n",
        "\n",
        "temp0 = []\n",
        "for i in range(7):\n",
        "  temp0.append(l2014[i])\n",
        "  temp0.append(l2015[i])\n",
        "  temp0.append(l2016[i])\n",
        "  temp0.append(l2017[i])\n",
        "  temp0.append(l2018[i])\n",
        "  temp0.append(l2019[i])\n",
        "  temp0.append(l2020[i])\n",
        "  temp0.append(l2021[i])  \n",
        "\n",
        "      \n",
        "temp0\n",
        "x_values = ['2014','2015','2016','2017','2018','2019','2020','2021']\n",
        "yValues = temp0[0:8]\n",
        "plt.plot(x_values,yValues)\n",
        "plt.plot(x_values,temp0[8:16])\n",
        "plt.plot(x_values,temp0[16:24])\n",
        "plt.show()"
      ],
      "metadata": {
        "id": "eBhQ3C86yo4-"
      },
      "execution_count": null,
      "outputs": []
    },
    {
      "cell_type": "code",
      "source": [],
      "metadata": {
        "id": "oEqjgcUv5Xvh"
      },
      "execution_count": null,
      "outputs": []
    },
    {
      "cell_type": "code",
      "source": [
        "temp = np.array(range_['대계열'].value_counts())\n",
        "print(temp)\n",
        "# li = []\n",
        "# for i in range(7):\n",
        "#   li.append(scale(temp[i],min(temp),max(temp)))\n",
        "# t = ['사회','공학','예체능','자연','인문','의약','교육']\n",
        "# plt.plot(t,li)\n",
        "# plt.show()"
      ],
      "metadata": {
        "id": "L0c7coMpx4j8"
      },
      "execution_count": null,
      "outputs": []
    },
    {
      "cell_type": "code",
      "source": [
        "import numpy as np\n",
        "ar1 = np.array(org1_fin) #계열 배열화\n",
        "ar2 = np.array(org2_fin)\n",
        "ar3 = np.array(org3_fin)\n",
        "ar4 = np.array(org4_fin)\n",
        "ar5 = np.array(org5_fin)\n",
        "ar6 = np.array(org6_fin)\n",
        "ar7 = np.array(org7_fin)\n",
        "ar8 = np.array(org8_fin)\n",
        "\n",
        "ARR_FIN = np.stack((ar1, ar2,ar3,ar4,ar5,ar6,ar7,ar8))\n",
        "\n",
        "engin = []\n",
        "soc = []\n",
        "pe = []\n",
        "nature = []\n",
        "human = []\n",
        "medical = []\n",
        "education = []\n",
        "\n",
        "\n",
        "i = 0  #계열별로 모집인원 정리, 함수에 넣기만 하면됨\n",
        "while i < 8:\n",
        "  engin.append(ARR_FIN[i,1])\n",
        "  soc.append(ARR_FIN[i,0])\n",
        "  pe.append(ARR_FIN[i,2])\n",
        "  nature.append(ARR_FIN[i,3])\n",
        "  human.append(ARR_FIN[i,4])\n",
        "  medical.append(ARR_FIN[i,5])\n",
        "  education.append(ARR_FIN[i,6])\n",
        "  i += 1\n",
        "j = 0\n",
        "engin_fin = []\n",
        "soc_fin = []\n",
        "pe_fin = []\n",
        "nature_fin = []\n",
        "medical_fin = []\n",
        "education_fin = []\n",
        "human_fin = []\n",
        "while j < 8:\n",
        "  engin_fin.append(scale(engin[j],min(engin),max(engin)))\n",
        "  soc_fin.append(scale(soc[j],min(soc),max(soc)))\n",
        "  pe_fin.append(scale(engin[j],min(engin),max(engin)))\n",
        "  nature_fin.append(scale(soc[j],min(soc),max(soc)))\n",
        "  human_fin.append(scale(engin[j],min(engin),max(engin)))\n",
        "  medical_fin.append(scale(soc[j],min(soc),max(soc)))\n",
        "  education_fin.append(scale(engin[j],min(engin),max(engin)))\n",
        "  j +=1\n",
        "\n",
        "engin_fin\n",
        "soc_fin\n",
        "pe_fin\n",
        "nature_fin\n",
        "medical_fin\n",
        "education_fin\n",
        "human_fin"
      ],
      "metadata": {
        "id": "oBjvTkuArttw"
      },
      "execution_count": null,
      "outputs": []
    },
    {
      "cell_type": "code",
      "source": [
        "x_values = ['14','15','16','17','18','19','20','21']\n",
        "y_values = engin_fin\n",
        "y_values_1 = soc_fin\n",
        "y_values_2 = pe_fin\n",
        "y_values_3 = nature_fin\n",
        "y_values_4 = human_fin\n",
        "y_values_5 = medical_fin\n",
        "y_values_6 = education_fin\n",
        "\n",
        "\n",
        "print(soc)\n",
        "plt.xlabel(\"년\", fontsize=12, loc= 'right')\n",
        "plt.ylabel(\"모집인원\", fontsize=12,loc = 'top')\n",
        "\n",
        "\n",
        "plt.title('연도별 공학계열 모집인원 추이')\n",
        "plt.plot(x_values, y_values,linestyle='-',marker='o')\n",
        "plt.show()\n"
      ],
      "metadata": {
        "id": "QwRZEpNM3g83"
      },
      "execution_count": null,
      "outputs": []
    },
    {
      "cell_type": "code",
      "source": [
        "plt.title('연도별 사회계열 모집인원 추이')\n",
        "plt.xlabel(\"년\", fontsize=12, loc= 'right')\n",
        "plt.ylabel(\"모집인원\", fontsize=12,loc = 'top')\n",
        "plt.plot(x_values, y_values_1,linestyle='-',marker='o')\n",
        "plt.plot(x, y2, linestyle='-', marker='o')\n",
        "plt.show()\n"
      ],
      "metadata": {
        "id": "13LVDgzkTZVF"
      },
      "execution_count": null,
      "outputs": []
    },
    {
      "cell_type": "code",
      "source": [
        "plt.title('연도별 예체능계열 모집인원 추이')\n",
        "plt.xlabel(\"년\", fontsize=12, loc= 'right')\n",
        "plt.ylabel(\"모집인원\", fontsize=12,loc = 'top')\n",
        "plt.plot(x_values, y_values_2,linestyle='-',marker='o')"
      ],
      "metadata": {
        "id": "XI8v9-snYvXM"
      },
      "execution_count": null,
      "outputs": []
    },
    {
      "cell_type": "code",
      "source": [
        "plt.title('연도별 자연계열 모집인원 추이')\n",
        "plt.xlabel(\"년\", fontsize=12, loc= 'right')\n",
        "plt.ylabel(\"모집인원\", fontsize=12,loc = 'top')\n",
        "plt.plot(x_values, y_values_3,linestyle='-',marker='o')"
      ],
      "metadata": {
        "id": "6MzOvxPPY7Dq"
      },
      "execution_count": null,
      "outputs": []
    },
    {
      "cell_type": "code",
      "source": [
        "plt.title('연도별 인문계열 모집인원 추이')\n",
        "plt.xlabel(\"년\", fontsize=12, loc= 'right')\n",
        "plt.ylabel(\"모집인원\", fontsize=12,loc = 'top')\n",
        "plt.plot(x_values, y_values_4,linestyle='-',marker='o')"
      ],
      "metadata": {
        "id": "04YlycomcBo_"
      },
      "execution_count": null,
      "outputs": []
    },
    {
      "cell_type": "code",
      "source": [
        "plt.title('연도별 의학계열 모집인원 추이')\n",
        "plt.xlabel(\"년\", fontsize=12, loc= 'right')\n",
        "plt.ylabel(\"모집인원\", fontsize=12,loc = 'top')\n",
        "plt.plot(x_values, y_values_5,linestyle='-',marker='o')"
      ],
      "metadata": {
        "id": "1hVt5JpmcIzm"
      },
      "execution_count": null,
      "outputs": []
    },
    {
      "cell_type": "code",
      "source": [
        "plt.title('연도별 교육계열 모집인원 추이')\n",
        "plt.xlabel(\"년\", fontsize=12, loc= 'right')\n",
        "plt.ylabel(\"모집인원\", fontsize=12,loc = 'top')\n",
        "plt.plot(x_values, y_values_6,linestyle='-',marker='o')"
      ],
      "metadata": {
        "id": "rr_BfpBpcO-1"
      },
      "execution_count": null,
      "outputs": []
    },
    {
      "cell_type": "code",
      "source": [
        "result = founder.drop('구분별(1)', axis = 'columns')\n",
        "founder_fin = result.set_index('연도별 ')\n",
        "sum_year = founder_fin.sum(axis=1)\n",
        "array_sum = np.array(sum_year)\n",
        "\n",
        "\n",
        "ar = np.array(founder_fin)\n",
        "\n",
        "sum_fin = array_sum.sum()\n",
        "ar\n",
        "fdhuman = []\n",
        "fdsoc = []\n",
        "fdeducation = []\n",
        "fdengin = []\n",
        "fdnature = []\n",
        "fdmedical = []\n",
        "fdpe = []\n",
        "\n",
        "for j in range(7):\n",
        "  fdhuman.append(ar[j,0])\n",
        "  fdsoc.append(ar[j,1])\n",
        "  fdeducation.append(ar[j,2])\n",
        "  fdengin.append(ar[j,3])\n",
        "  fdnature.append(ar[j,4])\n",
        "  fdmedical.append(ar[j,5])\n",
        "  fdpe.append(ar[j,6])\n",
        "  \n",
        "\n",
        "print(fdhuman)\n",
        "print(fdpe)\n",
        "ar\n",
        "fd = np.array(fdhuman)\n",
        "print(fd)"
      ],
      "metadata": {
        "id": "kUoExfNL6IgI"
      },
      "execution_count": null,
      "outputs": []
    },
    {
      "cell_type": "code",
      "source": [
        "max(fdhuman)"
      ],
      "metadata": {
        "id": "K2LsN9FIj009"
      },
      "execution_count": null,
      "outputs": []
    },
    {
      "cell_type": "code",
      "source": [],
      "metadata": {
        "id": "FV6o33BQ4nsC"
      },
      "execution_count": null,
      "outputs": []
    },
    {
      "cell_type": "code",
      "source": [
        "max_ = []\n",
        "min_ = []\n",
        "for x in 7:\n",
        "  max_.append(max(fd).round(0))\n",
        "  min_.append(min(fd)).round(0))\n",
        "print(max_,min_)"
      ],
      "metadata": {
        "id": "Eyq60ylRnUTd"
      },
      "execution_count": null,
      "outputs": []
    },
    {
      "cell_type": "code",
      "source": [
        "_l = []\n",
        "for i in range(7):\n",
        "  temp_l = []\n",
        "  for x in ar[i]:\n",
        "    temp_l.append(scale(x, min(ar[i]), max(ar[i])))\n",
        "\n"
      ],
      "metadata": {
        "id": "zUqgamLO07T7"
      },
      "execution_count": null,
      "outputs": []
    },
    {
      "cell_type": "code",
      "source": [
        "f = founder['인문계열'] \n",
        "fd = np.array(f)\n",
        "\n",
        "fdhuman = []\n",
        "fdhuman_fin = []\n",
        "\n",
        "z = 6\n",
        "\n",
        "while z >= 0:\n",
        "  fdhuman.append(fd[z])      \n",
        "  z -= 1 \n",
        "\n",
        "\n",
        "\n",
        "\n",
        "x2_values = ['2015','2016','2017','2018','2019','2020','2021']\n",
        "y2_values = fdhuman_fin\n",
        "plt.title('연도별 인문계열 창업')\n",
        "plt.xlabel(\"년\", fontsize=12, loc= 'right')\n",
        "plt.ylabel(\"창업수\", fontsize=12,loc = 'top')\n",
        "plt.plot(x2_values, y2_values,linestyle='-',marker='o')\n",
        "fdhuman\n"
      ],
      "metadata": {
        "id": "rRmA79H5shPX"
      },
      "execution_count": null,
      "outputs": []
    },
    {
      "cell_type": "code",
      "source": [
        "fdsoc = []\n",
        "fdsoc_fin = []\n",
        "\n",
        "f = founder['상경계열']\n",
        "fd = np.array(f)\n",
        "\n",
        "z = 6\n",
        "while z >= 0:\n",
        "  fdsoc.append(fd[z])  \n",
        "  z -= 1\n",
        "\n",
        "i = 0\n",
        "while i < 7:\n",
        "  temp1 = fdsoc[i] - diff[i]\n",
        "  fdsoc_fin.append(temp1.round())\n",
        "  i+=1\n",
        "\n",
        "\n",
        "x2_values = ['2015','2016','2017','2018','2019','2020','2021']\n",
        "y2_values = fdsoc_fin\n",
        "plt.title('연도별 사회계열 창업')\n",
        "plt.xlabel(\"년\", fontsize=12, loc= 'right')\n",
        "plt.ylabel(\"창업수\", fontsize=12,loc = 'top')\n",
        "plt.plot(x2_values, y2_values,linestyle='-',marker='o')\n"
      ],
      "metadata": {
        "id": "DHYWeGJyxznq"
      },
      "execution_count": null,
      "outputs": []
    },
    {
      "cell_type": "code",
      "source": [
        "fdeducation = []\n",
        "fdeducation_fin = []\n",
        "\n",
        "f = founder['교육계열']\n",
        "fd = np.array(f)\n",
        "\n",
        "z = 6\n",
        "while z >= 0:\n",
        "  fdeducation.append(fd[z])  \n",
        "  z -= 1 \n",
        "\n",
        "i = 0\n",
        "while i < 7:\n",
        "  temp2 = fdeducation[i] - diff[i]\n",
        "  fdeducation_fin.append(temp2.round())\n",
        "  i+=1\n",
        "\n",
        "x2_values = ['2015','2016','2017','2018','2019','2020','2021']\n",
        "y2_values = fdeducation\n",
        "plt.title('연도별 교육계열 창업')\n",
        "plt.xlabel(\"년\", fontsize=12, loc= 'right')\n",
        "plt.ylabel(\"창업수\", fontsize=12,loc = 'top')\n",
        "plt.plot(x2_values, y2_values,linestyle='-',marker='o')\n",
        "fdeducation_fin"
      ],
      "metadata": {
        "id": "QCo5Lr3gh8kC"
      },
      "execution_count": null,
      "outputs": []
    },
    {
      "cell_type": "code",
      "source": [
        "fdengin = []\n",
        "fdengin_fin = []\n",
        "\n",
        "f = founder['공학계열']\n",
        "fd = np.array(f)\n",
        "\n",
        "z = 6\n",
        "while z >= 0:\n",
        "  fdengin.append(fd[z])  \n",
        "  z -= 1 \n",
        "\n",
        "i = 0\n",
        "while i < 7:\n",
        "  temp3 = fdengin[i] - diff[i]\n",
        "  fdengin_fin.append(temp3.round())\n",
        "  i+=1\n",
        "\n",
        "x2_values = ['2015','2016','2017','2018','2019','2020','2021']\n",
        "y2_values = fdengin\n",
        "plt.title('연도별 공학계열 창업')\n",
        "plt.xlabel(\"년\", fontsize=12, loc= 'right')\n",
        "plt.ylabel(\"창업수\", fontsize=12,loc = 'top')\n",
        "plt.plot(x2_values, y2_values,linestyle='-',marker='o')"
      ],
      "metadata": {
        "id": "1PNyCv2ciKJH"
      },
      "execution_count": null,
      "outputs": []
    },
    {
      "cell_type": "code",
      "source": [
        "fdnature = []\n",
        "fdnature_fin = []\n",
        "\n",
        "f = founder['자연계열']\n",
        "fd = np.array(f)\n",
        "\n",
        "z = 6\n",
        "while z >= 0:\n",
        "  fdnature.append(fd[z])  \n",
        "  z -= 1 \n",
        "\n",
        "i = 0\n",
        "while i < 7:\n",
        "  temp4 = fdengin[i] - diff[i]\n",
        "  fdengin_fin.append(temp4.round())\n",
        "  i+=1\n",
        "\n",
        "x2_values = ['2015','2016','2017','2018','2019','2020','2021']\n",
        "y2_values = fdnature\n",
        "plt.title('연도별 자연계열 창업')\n",
        "plt.xlabel(\"년\", fontsize=12, loc= 'right')\n",
        "plt.ylabel(\"창업수\", fontsize=12,loc = 'top')\n",
        "plt.plot(x2_values, y2_values,linestyle='-',marker='o')"
      ],
      "metadata": {
        "id": "3lFgJdN3iy0h"
      },
      "execution_count": null,
      "outputs": []
    },
    {
      "cell_type": "code",
      "source": [
        "fdpe = []\n",
        "fdpe_fin = []\n",
        "\n",
        "f = founder['예체능계열']\n",
        "fd = np.array(f)\n",
        "\n",
        "z = 6\n",
        "while z >= 0:\n",
        "  fdpe.append(fd[z])  \n",
        "  z -= 1 \n",
        "\n",
        "i = 0\n",
        "while i < 7:\n",
        "  temp5 = fdpe[i] - diff[i]\n",
        "  fdpe_fin.append(temp5.round())\n",
        "  i+=1\n",
        "\n",
        "x2_values = ['2015','2016','2017','2018','2019','2020','2021']\n",
        "y2_values = fdpe\n",
        "plt.title('연도별 예체능계열 창업')\n",
        "plt.xlabel(\"년\", fontsize=12, loc= 'right')\n",
        "plt.ylabel(\"창업수\", fontsize=12,loc = 'top')\n",
        "plt.plot(x2_values, y2_values,linestyle='-',marker='o')"
      ],
      "metadata": {
        "id": "EO6qsWrZi8y3"
      },
      "execution_count": null,
      "outputs": []
    },
    {
      "cell_type": "code",
      "source": [
        "import pandas as pd\n",
        "fdengin_fin = []\n",
        "# 샘플 데이터프레임 생성\n",
        "inventors = pd.DataFrame(\n",
        "    {\n",
        "        '공학': [fdengin_fin],\n",
        "        '의학': [fdmedical_fin],\n",
        "        '교육': [fdeducation_fin],\n",
        "        '인문': [fdhuman_fin],\n",
        "        '예체능': [fdpe_fin],\n",
        "        '자연': [fdnature_fin],\n",
        "        '사회': [fdsoc_fin],\n",
        "})\n",
        "\n",
        "# 결과 출력\n",
        "inventors\n",
        "\n",
        " \n",
        "\n",
        "\n",
        "# medical\n",
        "# education\n",
        "\n",
        "inventors.to_excel('fin.xlsx')\n"
      ],
      "metadata": {
        "id": "2_miJwZQdifu"
      },
      "execution_count": null,
      "outputs": []
    }
  ],
  "metadata": {
    "colab": {
      "provenance": [],
      "mount_file_id": "1M0qEsn22yK4ijOWlQBHP2qf7frTP4ML7",
      "authorship_tag": "ABX9TyPhUl48fEqflmu7ct1aRUko",
      "include_colab_link": true
    },
    "kernelspec": {
      "display_name": "Python 3",
      "name": "python3"
    },
    "language_info": {
      "name": "python"
    }
  },
  "nbformat": 4,
  "nbformat_minor": 0
}